{
  "nbformat": 4,
  "nbformat_minor": 0,
  "metadata": {
    "colab": {
      "provenance": []
    },
    "kernelspec": {
      "name": "python3",
      "display_name": "Python 3"
    },
    "language_info": {
      "name": "python"
    }
  },
  "cells": [
    {
      "cell_type": "code",
      "execution_count": null,
      "metadata": {
        "id": "Y0fc5cWFBzqw"
      },
      "outputs": [],
      "source": []
    },
    {
      "cell_type": "markdown",
      "source": [
        "\"dictionary\"\n"
      ],
      "metadata": {
        "id": "QOdew-epI6Yj"
      }
    },
    {
      "cell_type": "code",
      "source": [
        "from collections import deque\n",
        "\n",
        "# Updated city connections with new city names\n",
        "city_graph = {\n",
        "    'New York': ['Boston'],\n",
        "    'Boston': ['New York', 'Chicago'],\n",
        "    'Chicago': ['Boston', 'Denver'],\n",
        "    'Denver': ['Chicago', 'San Francisco'],\n",
        "    'San Francisco': ['Denver', 'Los Angeles'],\n",
        "    'Los Angeles': ['San Francisco', 'Las Vegas'],\n",
        "    'Las Vegas': ['Los Angeles']\n",
        "}\n",
        "\n",
        "def bfs_shortest_path(graph, start, goal):\n",
        "\n",
        "    queue = deque([[start]])\n",
        "    visited = set()\n",
        "\n",
        "    while queue:\n",
        "        path = queue.popleft()\n",
        "        current_city = path[-1]\n",
        "\n",
        "        if current_city == goal:\n",
        "            return path\n",
        "\n",
        "        if current_city not in visited:\n",
        "            visited.add(current_city)\n",
        "            for neighbor in graph.get(current_city, []):\n",
        "                new_path = list(path)\n",
        "                new_path.append(neighbor)\n",
        "                queue.append(new_path)\n",
        "\n",
        "    return None\n",
        "\n",
        "def dfs_path(graph, start, goal, path=None, visited=None):\n",
        "\n",
        "    if path is None:\n",
        "        path = []\n",
        "    if visited is None:\n",
        "        visited = set()\n",
        "\n",
        "    path.append(start)\n",
        "    visited.add(start)\n",
        "\n",
        "    if start == goal:\n",
        "        return path\n",
        "\n",
        "    for neighbor in graph.get(start, []):\n",
        "        if neighbor not in visited:\n",
        "            result = dfs_path(graph, neighbor, goal, path.copy(), visited.copy())\n",
        "            if result:\n",
        "                return result\n",
        "\n",
        "    return None\n",
        "\n",
        "# New start and goal cities\n",
        "start_city = \"New York\"\n",
        "goal_city = \"Las Vegas\"\n",
        "\n",
        "# Run BFS and DFS with updated cities\n",
        "bfs_result = bfs_shortest_path(city_graph, start_city, goal_city)\n",
        "print(\"BFS Shortest Path from New York to Las Vegas:\", bfs_result)\n",
        "\n",
        "dfs_result = dfs_path(city_graph, start_city, goal_city)\n",
        "print(\"DFS Path from New York to Las Vegas:\", dfs_result)\n"
      ],
      "metadata": {
        "colab": {
          "base_uri": "https://localhost:8080/"
        },
        "id": "3tI_NUhVI-f7",
        "outputId": "9ee727b7-522e-435f-b0e7-c386e4dca827"
      },
      "execution_count": 7,
      "outputs": [
        {
          "output_type": "stream",
          "name": "stdout",
          "text": [
            "BFS Shortest Path from New York to Las Vegas: ['New York', 'Boston', 'Chicago', 'Denver', 'San Francisco', 'Los Angeles', 'Las Vegas']\n",
            "DFS Path from New York to Las Vegas: ['New York', 'Boston', 'Chicago', 'Denver', 'San Francisco', 'Los Angeles', 'Las Vegas']\n"
          ]
        }
      ]
    }
  ]
}