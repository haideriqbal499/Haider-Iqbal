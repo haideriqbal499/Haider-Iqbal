{
  "nbformat": 4,
  "nbformat_minor": 0,
  "metadata": {
    "colab": {
      "provenance": []
    },
    "kernelspec": {
      "name": "python3",
      "display_name": "Python 3"
    },
    "language_info": {
      "name": "python"
    }
  },
  "cells": [
    {
      "cell_type": "markdown",
      "source": [
        "**Numpy**"
      ],
      "metadata": {
        "id": "GmHS12ijDnFP"
      }
    },
    {
      "cell_type": "code",
      "source": [],
      "metadata": {
        "id": "jK6sm5wTIr7g"
      },
      "execution_count": null,
      "outputs": []
    },
    {
      "cell_type": "markdown",
      "source": [],
      "metadata": {
        "id": "96mt_9F6DbJf"
      }
    },
    {
      "cell_type": "markdown",
      "source": [
        "**List**"
      ],
      "metadata": {
        "id": "Qoo2XIOTDqvg"
      }
    },
    {
      "cell_type": "code",
      "source": [
        "\n",
        "my_list = [1, 2, 3, 8, 5,6,7,5,9,10]\n",
        "\n",
        "\n",
        "print(my_list)\n",
        "print ('sum:',sum(my_list))\n",
        "print ('max:',max(my_list))\n",
        "print ('min:',min(my_list))\n",
        "my_list.append(33)\n",
        "print('updated list:',my_list)\n",
        "my_list.remove(8)\n",
        "print('updated list:',my_list)\n",
        "print('ascending',sorted(my_list))\n",
        "print('descending',sorted(my_list) reverse=true)"
      ],
      "metadata": {
        "colab": {
          "base_uri": "https://localhost:8080/"
        },
        "id": "QtfBu5_GIxQH",
        "outputId": "ec86cc40-7397-4277-b47f-3a3208f74ce7"
      },
      "execution_count": 21,
      "outputs": [
        {
          "output_type": "stream",
          "name": "stdout",
          "text": [
            "[1, 2, 3, 8, 5, 6, 7, 5, 9, 10]\n",
            "sum: 56\n",
            "max: 10\n",
            "min: 1\n",
            "updated list: [1, 2, 3, 8, 5, 6, 7, 5, 9, 10, 33]\n",
            "updated list: [1, 2, 3, 5, 6, 7, 5, 9, 10, 33]\n",
            "ascending [1, 2, 3, 5, 5, 6, 7, 9, 10, 33]\n",
            "descending [33, 10, 9, 7, 6, 5, 5, 3, 2, 1]\n"
          ]
        }
      ]
    },
    {
      "cell_type": "code",
      "source": [
        "min(my_list)"
      ],
      "metadata": {
        "colab": {
          "base_uri": "https://localhost:8080/"
        },
        "id": "2opDUockKELu",
        "outputId": "9ae81839-b6ef-4196-c05e-e1c14244d9dc"
      },
      "execution_count": 5,
      "outputs": [
        {
          "output_type": "execute_result",
          "data": {
            "text/plain": [
              "1"
            ]
          },
          "metadata": {},
          "execution_count": 5
        }
      ]
    },
    {
      "cell_type": "code",
      "source": [
        "max(my_list)"
      ],
      "metadata": {
        "colab": {
          "base_uri": "https://localhost:8080/"
        },
        "id": "HKlyJstIJ0KW",
        "outputId": "ef6b0d64-dd7e-4c1b-800f-888fe747915b"
      },
      "execution_count": 4,
      "outputs": [
        {
          "output_type": "execute_result",
          "data": {
            "text/plain": [
              "10"
            ]
          },
          "metadata": {},
          "execution_count": 4
        }
      ]
    },
    {
      "cell_type": "code",
      "source": [
        "sum(my_list)"
      ],
      "metadata": {
        "colab": {
          "base_uri": "https://localhost:8080/"
        },
        "id": "ESxPpAlxJqGd",
        "outputId": "c8927de1-f3be-4ed3-b383-fcf1a0296231"
      },
      "execution_count": 3,
      "outputs": [
        {
          "output_type": "execute_result",
          "data": {
            "text/plain": [
              "55"
            ]
          },
          "metadata": {},
          "execution_count": 3
        }
      ]
    },
    {
      "cell_type": "markdown",
      "source": [
        "***Matplotlib***"
      ],
      "metadata": {
        "id": "QttYGiWaDb2n"
      }
    },
    {
      "cell_type": "markdown",
      "source": [
        "**Tuple**"
      ],
      "metadata": {
        "id": "z-aAzPq6Dt2X"
      }
    },
    {
      "cell_type": "code",
      "source": [
        "tuple = (1, 2, 3, 4, 5)\n",
        "print('second element',tuple[1])\n",
        "print('last element',tuple[-1])\n",
        "print('first element',tuple[0])\n",
        "tuple_list=list(tuple)\n",
        "tuple_list[2]=8\n",
        "print(tuple_list)\n"
      ],
      "metadata": {
        "colab": {
          "base_uri": "https://localhost:8080/"
        },
        "id": "gyIM5FT2M4Jv",
        "outputId": "12df4f8d-53d2-42c2-a14c-75d3681bec43"
      },
      "execution_count": 33,
      "outputs": [
        {
          "output_type": "stream",
          "name": "stdout",
          "text": [
            "second element 2\n",
            "last element 5\n",
            "first element 1\n",
            "[1, 2, 8, 4, 5]\n"
          ]
        }
      ]
    },
    {
      "cell_type": "code",
      "source": [],
      "metadata": {
        "id": "jkmoeViaTdAR"
      },
      "execution_count": null,
      "outputs": []
    },
    {
      "cell_type": "markdown",
      "source": [
        "**Set**"
      ],
      "metadata": {
        "id": "hWhm0dADDy-v"
      }
    },
    {
      "cell_type": "code",
      "metadata": {
        "colab": {
          "base_uri": "https://localhost:8080/"
        },
        "id": "1c88c408",
        "outputId": "562ee57a-9965-4e2e-9401-cc929270bc27"
      },
      "source": [
        "set1 = {1, 2, 3, 4, 5, 5, 4}\n",
        "set2 = {'a', 'b', 'c', 'c', 'd'}\n",
        "\n",
        "print(\"Set 1:\", set1)\n",
        "print(\"Set 2:\", set2)"
      ],
      "execution_count": 39,
      "outputs": [
        {
          "output_type": "stream",
          "name": "stdout",
          "text": [
            "Set 1: {1, 2, 3, 4, 5}\n",
            "Set 2: {'c', 'd', 'b', 'a'}\n"
          ]
        }
      ]
    },
    {
      "cell_type": "code",
      "metadata": {
        "colab": {
          "base_uri": "https://localhost:8080/"
        },
        "id": "14beb8dd",
        "outputId": "8a02602c-5339-4ad0-fdf1-f4a14ac8c267"
      },
      "source": [
        "\n",
        "\n",
        "union_set = set1.union(set2)\n",
        "print(\"Union of Set 1 and Set 2:\", union_set)\n",
        "\n",
        "intersection_set = set1.intersection(set2)\n",
        "print(\"Intersection of Set 1 and Set 2:\", intersection_set)\n",
        "\n",
        "difference_set1_set2 = set1.difference(set2)\n",
        "print(\"Difference (Set 1 - Set 2):\", difference_set1_set2)\n",
        "\n",
        "difference_set2_set1 = set2.difference(set1)\n",
        "print(\"Difference (Set 2 - Set 1):\", difference_set2_set1)"
      ],
      "execution_count": 40,
      "outputs": [
        {
          "output_type": "stream",
          "name": "stdout",
          "text": [
            "Union of Set 1 and Set 2: {1, 2, 3, 4, 5, 'd', 'a', 'b', 'c'}\n",
            "Intersection of Set 1 and Set 2: set()\n",
            "Difference (Set 1 - Set 2): {1, 2, 3, 4, 5}\n",
            "Difference (Set 2 - Set 1): {'c', 'd', 'b', 'a'}\n"
          ]
        }
      ]
    },
    {
      "cell_type": "code",
      "metadata": {
        "colab": {
          "base_uri": "https://localhost:8080/"
        },
        "id": "96189d56",
        "outputId": "8753aaa4-4cec-4557-c4b4-06f38e6b3b46"
      },
      "source": [
        "\n",
        "set1.add(6)\n",
        "print(\"Set after adding 6:\", set1)\n",
        "set1.remove(3)\n",
        "print(\"Set after removing 3:\", set1)"
      ],
      "execution_count": 41,
      "outputs": [
        {
          "output_type": "stream",
          "name": "stdout",
          "text": [
            "Set after adding 6: {1, 2, 3, 4, 5, 6}\n",
            "Set after removing 3: {1, 2, 4, 5, 6}\n"
          ]
        }
      ]
    },
    {
      "cell_type": "markdown",
      "source": [
        "**Dictionary**"
      ],
      "metadata": {
        "id": "SNoO6OKjE0Hw"
      }
    },
    {
      "cell_type": "code",
      "metadata": {
        "colab": {
          "base_uri": "https://localhost:8080/"
        },
        "id": "d722b771",
        "outputId": "3a7d3a27-2005-4308-9c6b-134a12c6b397"
      },
      "source": [
        "\n",
        "print(my_dict)"
      ],
      "execution_count": 43,
      "outputs": [
        {
          "output_type": "stream",
          "name": "stdout",
          "text": [
            "{'name': 'Alice', 'age': 30, 'city': 'New York', 'is_student': False, 'courses': ['Math', 'Science']}\n"
          ]
        }
      ]
    },
    {
      "cell_type": "code",
      "metadata": {
        "colab": {
          "base_uri": "https://localhost:8080/"
        },
        "id": "0c2c8867",
        "outputId": "9e773aa7-7c18-49b8-ceac-103f576fbf91"
      },
      "source": [
        "# Create a dictionary for student information\n",
        "student = {\n",
        "    \"name\": \"Alice\",\n",
        "    \"student_id\":234,\n",
        "    \"age\": 20,\n",
        "    \"major\": \"Computer Science\",\n",
        "    \"gpa\": 3.8\n",
        "}\n",
        "\n",
        "print(\"Original dictionary:\", student)\n",
        "\n",
        "student[\"age\"] = 21\n",
        "\n",
        "print(\"Updated dictionary:\", student)"
      ],
      "execution_count": 47,
      "outputs": [
        {
          "output_type": "stream",
          "name": "stdout",
          "text": [
            "Original dictionary: {'name': 3.8}\n",
            "Updated dictionary: {'name': 3.8, 'age': 21}\n"
          ]
        }
      ]
    }
  ]
}