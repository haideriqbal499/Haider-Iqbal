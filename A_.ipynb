{
  "nbformat": 4,
  "nbformat_minor": 0,
  "metadata": {
    "colab": {
      "provenance": []
    },
    "kernelspec": {
      "name": "python3",
      "display_name": "Python 3"
    },
    "language_info": {
      "name": "python"
    }
  },
  "cells": [
    {
      "cell_type": "markdown",
      "source": [
        "\"heap\"\n"
      ],
      "metadata": {
        "id": "2xV9DIsOHHHi"
      }
    },
    {
      "cell_type": "code",
      "source": [
        "import heapq\n",
        "\n",
        "#  Weighted graph: each node maps to a dict of neighbors and edge costs (distances)\n",
        "graph = {\n",
        "    \"A\": {\"B\": 5, \"C\": 10},\n",
        "    \"B\": {\"A\": 5, \"D\": 8},\n",
        "    \"C\": {\"A\": 10, \"D\": 3},\n",
        "    \"D\": {\"B\": 8, \"C\": 3, \"E\": 6},\n",
        "    \"E\": {\"D\": 6}\n",
        "}\n",
        "# Heuristic must be admissible (never overestimate) to guarantee optimality.\n",
        "heuristic = {\n",
        "    \"A\": 15,\n",
        "    \"B\": 10,\n",
        "    \"C\": 5,\n",
        "    \"D\": 6,\n",
        "    \"E\": 0\n",
        "}\n",
        "def a_star(graph, start, goal, heuristic):\n",
        "    \"\"\"\n",
        "    A* search returns (path, total_cost) or (None, inf) if no path found.\n",
        "    We store paths in the priority queue together with their f-cost = g + h.\n",
        "    \"\"\"\n",
        "    open_list = []  # priority queue (min-heap) storing tuples (f_cost, path_list)\n",
        "    #  push the start node. g(start)=0 so f = 0 + h(start) = h(start)\n",
        "    heapq.heappush(open_list, (heuristic[start], [start]))\n",
        "    g_costs = {start: 0}  #  dictionary to store best-known g(n) costs\n",
        "    closed_set = set()    #  nodes whose best cost is finalized\n",
        "\n",
        "    #  loop until there are no nodes left to expand\n",
        "    while open_list:\n",
        "        f, path = heapq.heappop(open_list)  # pop node with smallest f(n)\n",
        "        node = path[-1]                     # current node is the last in the path\n",
        "\n",
        "        #  goal test\n",
        "        if node == goal:\n",
        "            return path, g_costs[node]\n",
        "\n",
        "        # skip if we already finalized this node\n",
        "        if node in closed_set:\n",
        "            continue\n",
        "\n",
        "        closed_set.add(node)  #  mark node as finalized\n",
        "\n",
        "        # iterate through neighbors and edge costs\n",
        "        for neighbor, cost in graph[node].items():\n",
        "            tentative_g = g_costs[node] + cost  # g through current node to neighbor\n",
        "\n",
        "            # if neighbor unseen or we found a cheaper g, update\n",
        "            if neighbor not in g_costs or tentative_g < g_costs[neighbor]:\n",
        "                g_costs[neighbor] = tentative_g\n",
        "                f_cost = tentative_g + heuristic.get(neighbor, float('inf'))\n",
        "                new_path = path + [neighbor]\n",
        "                heapq.heappush(open_list, (f_cost, new_path))\n",
        "\n",
        "    # if open_list empties without reaching goal => no path\n",
        "    return None, float('inf')\n",
        "\n",
        "# Example run\n",
        "if __name__ == \"__main__\":\n",
        "    start_city = \"A\"\n",
        "    goal_city = \"E\"\n",
        "    path, cost = a_star(graph, start_city, goal_city, heuristic)\n",
        "    print(\"A* path:\", path)\n",
        "    print(\"Total cost:\", cost)"
      ],
      "metadata": {
        "colab": {
          "base_uri": "https://localhost:8080/"
        },
        "id": "EouW-9m7HYtm",
        "outputId": "c9637ce7-f515-4262-f16f-87d247678dd9"
      },
      "execution_count": 5,
      "outputs": [
        {
          "output_type": "stream",
          "name": "stdout",
          "text": [
            "A* path: ['A', 'B', 'D', 'E']\n",
            "Total cost: 19\n"
          ]
        }
      ]
    }
  ]
}