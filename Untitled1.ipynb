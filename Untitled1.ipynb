{
  "nbformat": 4,
  "nbformat_minor": 0,
  "metadata": {
    "colab": {
      "provenance": []
    },
    "kernelspec": {
      "name": "python3",
      "display_name": "Python 3"
    },
    "language_info": {
      "name": "python"
    }
  },
  "cells": [
    {
      "cell_type": "markdown",
      "source": [
        "Compare the solution paths found by BFS, DFS, and A*.\n",
        "Which algorithm gives the shortest path? Why?\n",
        "Which algorithm is more efficient in terms of time and memory?"
      ],
      "metadata": {
        "id": "idb4CTXfhQq0"
      }
    },
    {
      "cell_type": "markdown",
      "source": [
        "\n",
        "Compare the solution paths found by BFS, DFS, and A*.\n",
        "\n",
        "BFS and A* found the shortest path (3 steps).[link text](https://)\n",
        "\n",
        "DFS found a longer path (7 steps) due to its depth-first nature.\n",
        "\n",
        "Which algorithm gives the shortest path? Why?\n",
        "\n",
        "BFS and A* both guarantee the shortest path:\n",
        "\n",
        "BFS → because it explores in layers (smallest depth first).\n",
        "\n",
        "A* → because it uses a heuristic to guide the search but still ensures optimality.\n",
        "\n",
        "Which algorithm is more efficient in terms of time and memory?\n",
        "\n",
        "DFS is most memory efficient but not reliable (doesn’t guarantee shortest path).\n",
        "\n",
        "BFS uses a lot of memory and time on large problems.\n",
        "\n",
        "A* is the best balance: efficient and finds the shortest path quickly, especially if the heuristic is good."
      ],
      "metadata": {
        "id": "UIwCqB5HhHAq"
      }
    },
    {
      "cell_type": "code",
      "execution_count": null,
      "metadata": {
        "id": "b7y5wx8ag-2s"
      },
      "outputs": [],
      "source": []
    }
  ]
}