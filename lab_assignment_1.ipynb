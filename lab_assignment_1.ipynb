{
  "nbformat": 4,
  "nbformat_minor": 0,
  "metadata": {
    "colab": {
      "provenance": []
    },
    "kernelspec": {
      "name": "python3",
      "display_name": "Python 3"
    },
    "language_info": {
      "name": "python"
    }
  },
  "cells": [
    {
      "cell_type": "markdown",
      "source": [
        "\"task 2\"\n"
      ],
      "metadata": {
        "id": "iZjVqTzqphZZ"
      }
    },
    {
      "cell_type": "code",
      "metadata": {
        "colab": {
          "base_uri": "https://localhost:8080/"
        },
        "id": "8c2b641e",
        "outputId": "d700b229-c73d-4e75-9b8d-d16de46a28f6"
      },
      "source": [
        "# Create a dictionary to store student information\n",
        "student_info = {\n",
        "    \"name\": \"Ali\",\n",
        "    \"age\": 16,\n",
        "    \"roll_number\": \"A101\",\n",
        "    \"grade\": \"10th\"\n",
        "}\n",
        "\n",
        "# 1. Print all keys and values\n",
        "print(\"Initial student information:\")\n",
        "for key, value in student_info.items():\n",
        "    print(f\"{key}: {value}\")\n",
        "\n",
        "# 2. Update the grade of the student\n",
        "student_info[\"grade\"] = \"11th\"\n",
        "print(\"\\nUpdated grade:\")\n",
        "print(f\"Grade: {student_info['grade']}\")\n",
        "\n",
        "# 3. Add a new key email with a value\n",
        "student_info[\"email\"] = \"ali.a101@example.com\"\n",
        "print(\"\\nAdded email:\")\n",
        "print(f\"Email: {student_info['email']}\")\n",
        "\n",
        "# 4. Delete the roll_number key\n",
        "del student_info[\"roll_number\"]\n",
        "print(\"\\nDeleted roll_number:\")\n",
        "print(\"Current student information:\", student_info)"
      ],
      "execution_count": 2,
      "outputs": [
        {
          "output_type": "stream",
          "name": "stdout",
          "text": [
            "Initial student information:\n",
            "name: Ali\n",
            "age: 16\n",
            "roll_number: A101\n",
            "grade: 10th\n",
            "\n",
            "Updated grade:\n",
            "Grade: 11th\n",
            "\n",
            "Added email:\n",
            "Email: ali.a101@example.com\n",
            "\n",
            "Deleted roll_number:\n",
            "Current student information: {'name': 'Ali', 'age': 16, 'grade': '11th', 'email': 'ali.a101@example.com'}\n"
          ]
        }
      ]
    },
    {
      "cell_type": "markdown",
      "source": [
        "\"task 3\""
      ],
      "metadata": {
        "id": "MfokzpqfqQ5S"
      }
    },
    {
      "cell_type": "code",
      "metadata": {
        "colab": {
          "base_uri": "https://localhost:8080/",
          "height": 472
        },
        "id": "58beedb2",
        "outputId": "404f6183-c743-4f1f-968e-fb122323609c"
      },
      "source": [
        "import matplotlib.pyplot as plt\n",
        "\n",
        "# Data for the plot\n",
        "X = [1, 2, 3, 4, 5]\n",
        "Y = [2, 4, 6, 8, 10]\n",
        "\n",
        "# Create the line plot\n",
        "plt.plot(X, Y)\n",
        "\n",
        "# Add title and labels\n",
        "plt.title(\"Simple Line Plot\")\n",
        "plt.xlabel(\"X-axis Label\")\n",
        "plt.ylabel(\"Y-axis Label\")\n",
        "\n",
        "# Add grid lines\n",
        "plt.grid(True)\n",
        "\n",
        "# Display the plot\n",
        "plt.show()"
      ],
      "execution_count": 3,
      "outputs": [
        {
          "output_type": "display_data",
          "data": {
            "text/plain": [
              "<Figure size 640x480 with 1 Axes>"
            ],
            "image/png": "[encoded data removed]"
          },
          "metadata": {}
        }
      ]
    },
    {
      "cell_type": "markdown",
      "source": [
        "\"task 4\""
      ],
      "metadata": {
        "id": "ZbyKhE-tqyyV"
      }
    },
    {
      "cell_type": "markdown",
      "metadata": {
        "id": "3baa468c"
      },
      "source": [
        "# Task\n",
        "Implement and compare the performance of Breadth-First Search (BFS) and Depth-First Search (DFS) algorithms for solving the Water Jug problem, focusing on the number of steps, time taken, and memory usage."
      ]
    },
    {
      "cell_type": "markdown",
      "metadata": {
        "id": "7f360be7"
      },
      "source": [
        "## Define the water jug problem\n",
        "\n",
        "### Subtask:\n",
        "Create a clear representation of the problem including the states and possible actions (filling, emptying, pouring).\n"
      ]
    },
    {
      "cell_type": "markdown",
      "metadata": {
        "id": "0b7a81d5"
      },
      "source": [
        "**Reasoning**:\n",
        "Define a class to represent the state of the water jugs and implement the possible actions as methods within this class. Also, define the initial and goal states.\n",
        "\n"
      ]
    },
    {
      "cell_type": "code",
      "metadata": {
        "id": "cf09eb95"
      },
      "source": [
        "class WaterJugState:\n",
        "    \"\"\"Represents the state of the water jugs.\"\"\"\n",
        "\n",
        "    def __init__(self, jug1, jug2):\n",
        "        \"\"\"Initializes the state with the current water levels in each jug.\"\"\"\n",
        "        self.jug1 = jug1\n",
        "        self.jug2 = jug2\n",
        "\n",
        "    def __eq__(self, other):\n",
        "        \"\"\"Compares two states for equality.\"\"\"\n",
        "        return self.jug1 == other.jug1 and self.jug2 == other.jug2\n",
        "\n",
        "    def __hash__(self):\n",
        "        \"\"\"Generates a hash for the state.\"\"\"\n",
        "        return hash((self.jug1, self.jug2))\n",
        "\n",
        "    def __str__(self):\n",
        "        \"\"\"Returns a string representation of the state.\"\"\"\n",
        "        return f\"({self.jug1}, {self.jug2})\"\n",
        "\n",
        "    def fill_jug1(self, capacity1):\n",
        "        \"\"\"Fills jug 1 to its capacity.\"\"\"\n",
        "        return WaterJugState(capacity1, self.jug2)\n",
        "\n",
        "    def fill_jug2(self, capacity2):\n",
        "        \"\"\"Fills jug 2 to its capacity.\"\"\"\n",
        "        return WaterJugState(self.jug1, capacity2)\n",
        "\n",
        "    def empty_jug1(self):\n",
        "        \"\"\"Empties jug 1.\"\"\"\n",
        "        return WaterJugState(0, self.jug2)\n",
        "\n",
        "    def empty_jug2(self):\n",
        "        \"\"\"Empties jug 2.\"\"\"\n",
        "        return WaterJugState(self.jug1, 0)\n",
        "\n",
        "    def pour_jug1_to_jug2(self, capacity2):\n",
        "        \"\"\"Pours water from jug 1 to jug 2.\"\"\"\n",
        "        pour_amount = min(self.jug1, capacity2 - self.jug2)\n",
        "        return WaterJugState(self.jug1 - pour_amount, self.jug2 + pour_amount)\n",
        "\n",
        "    def pour_jug2_to_jug1(self, capacity1):\n",
        "        \"\"\"Pours water from jug 2 to jug 1.\"\"\"\n",
        "        pour_amount = min(self.jug2, capacity1 - self.jug1)\n",
        "        return WaterJugState(self.jug1 + pour_amount, self.jug2 - pour_amount)\n",
        "\n",
        "# Define the capacities of the jugs\n",
        "jug1_capacity = 4\n",
        "jug2_capacity = 3\n",
        "\n",
        "# Define the initial state (both jugs empty)\n",
        "initial_state = WaterJugState(0, 0)\n",
        "\n",
        "# Define the goal state (e.g., 2 gallons in jug 1)\n",
        "goal_state_amount = 2"
      ],
      "execution_count": 4,
      "outputs": []
    },
    {
      "cell_type": "markdown",
      "metadata": {
        "id": "a807b9ea"
      },
      "source": [
        "## Implement bfs\n",
        "\n",
        "### Subtask:\n",
        "Write Python code for the Breadth-First Search algorithm to find a solution to the Water Jug problem.\n"
      ]
    },
    {
      "cell_type": "markdown",
      "metadata": {
        "id": "aad70920"
      },
      "source": [
        "**Reasoning**:\n",
        "Implement the Breadth-First Search algorithm for the Water Jug problem as described in the instructions.\n",
        "\n"
      ]
    },
    {
      "cell_type": "code",
      "metadata": {
        "id": "a8e36520"
      },
      "source": [
        "from collections import deque\n",
        "\n",
        "def bfs_water_jug(initial_state, goal_state_amount, jug1_capacity, jug2_capacity):\n",
        "    \"\"\"\n",
        "    Solves the Water Jug problem using Breadth-First Search.\n",
        "\n",
        "    Args:\n",
        "        initial_state: The starting state of the jugs (WaterJugState object).\n",
        "        goal_state_amount: The target amount of water in either jug.\n",
        "        jug1_capacity: The capacity of the first jug.\n",
        "        jug2_capacity: The capacity of the second jug.\n",
        "\n",
        "    Returns:\n",
        "        A list of WaterJugState objects representing the path from the initial\n",
        "        state to the goal state, or None if no solution is found.\n",
        "    \"\"\"\n",
        "    queue = deque([initial_state])\n",
        "    visited = {initial_state}\n",
        "    parent = {initial_state: None}\n",
        "    steps = 0\n",
        "\n",
        "    while queue:\n",
        "        current_state = queue.popleft()\n",
        "        steps += 1\n",
        "\n",
        "        # Check if the current state is the goal state\n",
        "        if current_state.jug1 == goal_state_amount or current_state.jug2 == goal_state_amount:\n",
        "            path = []\n",
        "            while current_state:\n",
        "                path.append(current_state)\n",
        "                current_state = parent[current_state]\n",
        "            return path[::-1], steps\n",
        "\n",
        "        # Generate next states\n",
        "        next_states = [\n",
        "            current_state.fill_jug1(jug1_capacity),\n",
        "            current_state.fill_jug2(jug2_capacity),\n",
        "            current_state.empty_jug1(),\n",
        "            current_state.empty_jug2(),\n",
        "            current_state.pour_jug1_to_jug2(jug2_capacity),\n",
        "            current_state.pour_jug2_to_jug1(jug1_capacity),\n",
        "        ]\n",
        "\n",
        "        for next_state in next_states:\n",
        "            if next_state not in visited:\n",
        "                visited.add(next_state)\n",
        "                parent[next_state] = current_state\n",
        "                queue.append(next_state)\n",
        "\n",
        "    # No solution found\n",
        "    return None, steps"
      ],
      "execution_count": 5,
      "outputs": []
    },
    {
      "cell_type": "markdown",
      "metadata": {
        "id": "c110b983"
      },
      "source": [
        "## Implement dfs\n",
        "\n",
        "### Subtask:\n",
        "Write Python code for the Depth-First Search (DFS) algorithm to find a solution to the Water Jug problem.\n"
      ]
    },
    {
      "cell_type": "markdown",
      "metadata": {
        "id": "53ff5e85"
      },
      "source": [
        "**Reasoning**:\n",
        "Implement the DFS algorithm for the water jug problem following the instructions.\n",
        "\n"
      ]
    },
    {
      "cell_type": "code",
      "metadata": {
        "id": "f6a37924"
      },
      "source": [
        "def dfs_water_jug(initial_state, goal_state_amount, jug1_capacity, jug2_capacity):\n",
        "    \"\"\"\n",
        "    Solves the Water Jug problem using Depth-First Search.\n",
        "\n",
        "    Args:\n",
        "        initial_state: The starting state of the jugs (WaterJugState object).\n",
        "        goal_state_amount: The target amount of water in either jug.\n",
        "        jug1_capacity: The capacity of the first jug.\n",
        "        jug2_capacity: The capacity of the second jug.\n",
        "\n",
        "    Returns:\n",
        "        A list of WaterJugState objects representing the path from the initial\n",
        "        state to the goal state, or None if no solution is found, and the\n",
        "        number of steps taken.\n",
        "    \"\"\"\n",
        "    stack = [initial_state]\n",
        "    visited = {initial_state}\n",
        "    parent = {initial_state: None}\n",
        "    steps = 0\n",
        "\n",
        "    while stack:\n",
        "        current_state = stack.pop()\n",
        "        steps += 1\n",
        "\n",
        "        # Check if the current state is the goal state\n",
        "        if current_state.jug1 == goal_state_amount or current_state.jug2 == goal_state_amount:\n",
        "            path = []\n",
        "            while current_state:\n",
        "                path.append(current_state)\n",
        "                current_state = parent[current_state]\n",
        "            return path[::-1], steps\n",
        "\n",
        "        # Generate next states\n",
        "        next_states = [\n",
        "            current_state.fill_jug1(jug1_capacity),\n",
        "            current_state.fill_jug2(jug2_capacity),\n",
        "            current_state.empty_jug1(),\n",
        "            current_state.empty_jug2(),\n",
        "            current_state.pour_jug1_to_jug2(jug2_capacity),\n",
        "            current_state.pour_jug2_to_jug1(jug1_capacity),\n",
        "        ]\n",
        "\n",
        "        # Add unvisited next states to the stack and record parent\n",
        "        # Iterate in reverse to maintain exploration order for DFS\n",
        "        for next_state in reversed(next_states):\n",
        "             if next_state not in visited:\n",
        "                visited.add(next_state)\n",
        "                parent[next_state] = current_state\n",
        "                stack.append(next_state)\n",
        "\n",
        "    # No solution found\n",
        "    return None, steps"
      ],
      "execution_count": 6,
      "outputs": []
    },
    {
      "cell_type": "markdown",
      "metadata": {
        "id": "373fe386"
      },
      "source": [
        "## Compare performance\n",
        "\n",
        "### Subtask:\n",
        "Implement code to run both BFS and DFS on the same Water Jug problem instance and measure the number of steps, time taken, and memory usage for each.\n"
      ]
    },
    {
      "cell_type": "markdown",
      "metadata": {
        "id": "8ed7a7eb"
      },
      "source": [
        "**Reasoning**:\n",
        "Implement code to run both BFS and DFS on the same Water Jug problem instance and measure the number of steps, time taken, and memory usage for each.\n",
        "\n"
      ]
    },
    {
      "cell_type": "code",
      "metadata": {
        "colab": {
          "base_uri": "https://localhost:8080/"
        },
        "id": "bf3b474f",
        "outputId": "a7241b79-a0e3-48ef-efa2-ab60041c9b2f"
      },
      "source": [
        "import time\n",
        "import resource\n",
        "\n",
        "# Measure performance for BFS\n",
        "start_time_bfs = time.time()\n",
        "initial_memory_bfs = resource.getrusage(resource.RUSAGE_SELF).ru_maxrss\n",
        "bfs_path, bfs_steps = bfs_water_jug(initial_state, goal_state_amount, jug1_capacity, jug2_capacity)\n",
        "end_time_bfs = time.time()\n",
        "final_memory_bfs = resource.getrusage(resource.RUSAGE_SELF).ru_maxrss\n",
        "\n",
        "bfs_time = end_time_bfs - start_time_bfs\n",
        "bfs_memory = final_memory_bfs - initial_memory_bfs\n",
        "\n",
        "# Measure performance for DFS\n",
        "start_time_dfs = time.time()\n",
        "initial_memory_dfs = resource.getrusage(resource.RUSAGE_SELF).ru_maxrss\n",
        "dfs_path, dfs_steps = dfs_water_jug(initial_state, goal_state_amount, jug1_capacity, jug2_capacity)\n",
        "end_time_dfs = time.time()\n",
        "final_memory_dfs = resource.getrusage(resource.RUSAGE_SELF).ru_maxrss\n",
        "\n",
        "dfs_time = end_time_dfs - start_time_dfs\n",
        "dfs_memory = final_memory_dfs - initial_memory_dfs\n",
        "\n",
        "# Store the results\n",
        "bfs_results = {\"steps\": bfs_steps, \"time\": bfs_time, \"memory\": bfs_memory}\n",
        "dfs_results = {\"steps\": dfs_steps, \"time\": dfs_time, \"memory\": dfs_memory}\n",
        "\n",
        "print(\"BFS Results:\", bfs_results)\n",
        "print(\"DFS Results:\", dfs_results)"
      ],
      "execution_count": 7,
      "outputs": [
        {
          "output_type": "stream",
          "name": "stdout",
          "text": [
            "BFS Results: {'steps': 10, 'time': 0.0003561973571777344, 'memory': 0}\n",
            "DFS Results: {'steps': 8, 'time': 0.00029754638671875, 'memory': 0}\n"
          ]
        }
      ]
    },
    {
      "cell_type": "markdown",
      "metadata": {
        "id": "ba0bc62c"
      },
      "source": [
        "## Report results\n",
        "\n",
        "### Subtask:\n",
        "Present the comparison results in a clear and understandable format.\n"
      ]
    },
    {
      "cell_type": "markdown",
      "metadata": {
        "id": "b4312183"
      },
      "source": [
        "**Reasoning**:\n",
        "Print the comparison results in a clear and understandable format, including a heading, the performance metrics for each algorithm, and a brief summary statement.\n",
        "\n"
      ]
    },
    {
      "cell_type": "code",
      "metadata": {
        "colab": {
          "base_uri": "https://localhost:8080/"
        },
        "id": "01cdcc4f",
        "outputId": "a9b40384-229f-435b-a957-b22a9c53dd1f"
      },
      "source": [
        "print(\"--- Performance Comparison: BFS vs. DFS (Water Jug Problem) ---\")\n",
        "print(\"\\nBreadth-First Search (BFS) Results:\")\n",
        "print(f\"  Steps: {bfs_results['steps']}\")\n",
        "print(f\"  Time Taken: {bfs_results['time']:.6f} seconds\")\n",
        "print(f\"  Memory Usage: {bfs_results['memory']} KB\")\n",
        "\n",
        "print(\"\\nDepth-First Search (DFS) Results:\")\n",
        "print(f\"  Steps: {dfs_results['steps']}\")\n",
        "print(f\"  Time Taken: {dfs_results['time']:.6f} seconds\")\n",
        "print(f\"  Memory Usage: {dfs_results['memory']} KB\")\n",
        "\n",
        "print(\"\\nSummary:\")\n",
        "if bfs_results['steps'] < dfs_results['steps']:\n",
        "    print(\"Based on the number of steps, BFS found a solution in fewer steps.\")\n",
        "elif dfs_results['steps'] < bfs_results['steps']:\n",
        "    print(\"Based on the number of steps, DFS found a solution in fewer steps.\")\n",
        "else:\n",
        "    print(\"Both BFS and DFS found a solution in the same number of steps.\")\n",
        "\n",
        "if bfs_results['time'] < dfs_results['time']:\n",
        "    print(\"Based on time taken, BFS was faster.\")\n",
        "elif dfs_results['time'] < bfs_results['time']:\n",
        "    print(\"Based on time taken, DFS was faster.\")\n",
        "else:\n",
        "    print(\"Both BFS and DFS took approximately the same amount of time.\")\n",
        "\n",
        "if bfs_results['memory'] < dfs_results['memory']:\n",
        "    print(\"Based on memory usage, BFS used less memory.\")\n",
        "elif dfs_results['memory'] < bfs_results['memory']:\n",
        "    print(\"Based on memory usage, DFS used less memory.\")\n",
        "else:\n",
        "    print(\"Both BFS and DFS used approximately the same amount of memory.\")"
      ],
      "execution_count": 8,
      "outputs": [
        {
          "output_type": "stream",
          "name": "stdout",
          "text": [
            "--- Performance Comparison: BFS vs. DFS (Water Jug Problem) ---\n",
            "\n",
            "Breadth-First Search (BFS) Results:\n",
            "  Steps: 10\n",
            "  Time Taken: 0.000356 seconds\n",
            "  Memory Usage: 0 KB\n",
            "\n",
            "Depth-First Search (DFS) Results:\n",
            "  Steps: 8\n",
            "  Time Taken: 0.000298 seconds\n",
            "  Memory Usage: 0 KB\n",
            "\n",
            "Summary:\n",
            "Based on the number of steps, DFS found a solution in fewer steps.\n",
            "Based on time taken, DFS was faster.\n",
            "Both BFS and DFS used approximately the same amount of memory.\n"
          ]
        }
      ]
    },
    {
      "cell_type": "markdown",
      "metadata": {
        "id": "abd8effd"
      },
      "source": [
        "## Summary:\n",
        "\n",
        "### Data Analysis Key Findings\n",
        "\n",
        "*   The Breadth-First Search (BFS) algorithm found a solution to the Water Jug problem in 10 steps, taking approximately 0.000356 seconds and using 0 KB of memory.\n",
        "*   The Depth-First Search (DFS) algorithm found a solution to the same Water Jug problem instance in 8 steps, taking approximately 0.000298 seconds and using 0 KB of memory.\n",
        "*   In this specific instance, DFS was more efficient than BFS in terms of both the number of steps taken to reach the goal and the execution time.\n",
        "*   Memory usage was negligible and comparable for both algorithms in this scenario.\n",
        "\n",
        "### Insights or Next Steps\n",
        "\n",
        "*   The performance difference observed between BFS and DFS is problem-dependent. For problems with shallow solutions, BFS might find the shortest path, while DFS could find a solution faster if it explores a path leading to the goal early.\n",
        "*   Investigate the performance of these algorithms on different Water Jug problem instances (different capacities and goal states) to see how the performance metrics vary.\n"
      ]
    },
    {
      "cell_type": "markdown",
      "source": [
        "\"task 5\""
      ],
      "metadata": {
        "id": "mfKkpb3XslX7"
      }
    },
    {
      "cell_type": "code",
      "source": [
        "from heapq import heappush, heappop\n",
        "\n",
        "# Maze grid\n",
        "maze = [\n",
        "    ['A', '.', '.', '.', '.', '.'],\n",
        "    ['F', '#', 'G', '#', '#', '.'],\n",
        "    ['H', 'I', '#', 'J', 'K', 'L'],\n",
        "    ['M', 'N', '#', 'O', 'P', 'Q'],\n",
        "    ['R', 'S', 'T', 'U', '#', 'V'],\n",
        "    ['#', '#', 'W', 'X', 'Y', '#']\n",
        "]\n",
        "\n",
        "# Directions: up, down, left, right\n",
        "directions = [(-1,0), (1,0), (0,-1), (0,1)]\n",
        "\n",
        "# Find coordinates of A (start) and Y (goal)\n",
        "start, goal = None, None\n",
        "for i in range(len(maze)):\n",
        "    for j in range(len(maze[0])):\n",
        "        if maze[i][j] == 'A':\n",
        "            start = (i, j)\n",
        "        elif maze[i][j] == 'Y':\n",
        "            goal = (i, j)\n",
        "\n",
        "# Heuristic: Manhattan distance\n",
        "def heuristic(a, b):\n",
        "    return abs(a[0] - b[0]) + abs(a[1] - b[1])\n",
        "\n",
        "# A* Algorithm\n",
        "def astar(maze, start, goal):\n",
        "    open_list = []\n",
        "    heappush(open_list, (0 + heuristic(start, goal), 0, start))\n",
        "    came_from = {}\n",
        "    g_score = {start: 0}\n",
        "\n",
        "    while open_list:\n",
        "        _, cost, current = heappop(open_list)\n",
        "\n",
        "        if current == goal:\n",
        "            # Reconstruct path\n",
        "            path = []\n",
        "            while current in came_from:\n",
        "                path.append(current)\n",
        "                current = came_from[current]\n",
        "            path.append(start)\n",
        "            path.reverse()\n",
        "            return path\n",
        "\n",
        "        for d in directions:\n",
        "            ni, nj = current[0] + d[0], current[1] + d[1]\n",
        "            if 0 <= ni < len(maze) and 0 <= nj < len(maze[0]):\n",
        "                if maze[ni][nj] != '#':  # Not a wall\n",
        "                    new_cost = cost + 1\n",
        "                    neighbor = (ni, nj)\n",
        "                    if neighbor not in g_score or new_cost < g_score[neighbor]:\n",
        "                        g_score[neighbor] = new_cost\n",
        "                        priority = new_cost + heuristic(neighbor, goal)\n",
        "                        heappush(open_list, (priority, new_cost, neighbor))\n",
        "                        came_from[neighbor] = current\n",
        "    return None\n",
        "\n",
        "# Run A* search\n",
        "path = astar(maze, start, goal)\n",
        "\n",
        "# Show result\n",
        "if path:\n",
        "    for i, j in path:\n",
        "        if maze[i][j] not in ['A', 'Y']:\n",
        "            maze[i][j] = '*'\n",
        "\n",
        "    for row in maze[::-1]:  # print top-down\n",
        "        print(' '.join(row))\n",
        "else:\n",
        "    print(\"No path found\")\n"
      ],
      "metadata": {
        "colab": {
          "base_uri": "https://localhost:8080/"
        },
        "id": "V9bOxOH9sin4",
        "outputId": "03501316-3d50-41cc-be29-ab77d5a7fb1d"
      },
      "execution_count": 9,
      "outputs": [
        {
          "output_type": "stream",
          "name": "stdout",
          "text": [
            "# # W * Y #\n",
            "R * * * # V\n",
            "M * # O P Q\n",
            "* * # J K L\n",
            "* # G # # .\n",
            "A . . . . .\n"
          ]
        }
      ]
    },
    {
      "cell_type": "markdown",
      "source": [
        "\"task 01\"\n"
      ],
      "metadata": {
        "id": "t1h2aWEqw118"
      }
    },
    {
      "cell_type": "markdown",
      "metadata": {
        "id": "94ab3c2b"
      },
      "source": [
        "**Reasoning**:\n",
        "Define a dictionary to represent a simple graph using an adjacency list as described in the instructions.\n",
        "\n"
      ]
    },
    {
      "cell_type": "code",
      "metadata": {
        "colab": {
          "base_uri": "https://localhost:8080/"
        },
        "id": "58de02a8",
        "outputId": "edf8b808-f6a4-4baa-a83d-fd925a53ecd8"
      },
      "source": [
        "# Represent a graph using an adjacency list\n",
        "graph = {\n",
        "    'A': ['B', 'C'],\n",
        "    'B': ['A', 'D', 'E'],\n",
        "    'C': ['A', 'F'],\n",
        "    'D': ['B'],\n",
        "    'E': ['B', 'F'],\n",
        "    'F': ['C', 'E']\n",
        "}\n",
        "\n",
        "# Print the graph representation\n",
        "print(\"Graph represented as an adjacency list:\")\n",
        "for node, neighbors in graph.items():\n",
        "    print(f\"{node}: {neighbors}\")"
      ],
      "execution_count": 10,
      "outputs": [
        {
          "output_type": "stream",
          "name": "stdout",
          "text": [
            "Graph represented as an adjacency list:\n",
            "A: ['B', 'C']\n",
            "B: ['A', 'D', 'E']\n",
            "C: ['A', 'F']\n",
            "D: ['B']\n",
            "E: ['B', 'F']\n",
            "F: ['C', 'E']\n"
          ]
        }
      ]
    },
    {
      "cell_type": "markdown",
      "metadata": {
        "id": "351ed611"
      },
      "source": [
        "## Implement bfs for graphs\n",
        "\n",
        "### Subtask:\n",
        "Write Python code for the Breadth-First Search algorithm that works on a given graph representation.\n"
      ]
    },
    {
      "cell_type": "markdown",
      "metadata": {
        "id": "ece342e4"
      },
      "source": [
        "**Reasoning**:\n",
        "Implement the BFS algorithm for graphs as described in the instructions.\n",
        "\n"
      ]
    },
    {
      "cell_type": "code",
      "metadata": {
        "colab": {
          "base_uri": "https://localhost:8080/"
        },
        "id": "128fca3b",
        "outputId": "f968ed05-a7c4-460c-b19b-cfd81e93225a"
      },
      "source": [
        "from collections import deque\n",
        "\n",
        "def bfs_graph(graph, start_node):\n",
        "    \"\"\"\n",
        "    Performs a Breadth-First Search on a graph.\n",
        "\n",
        "    Args:\n",
        "        graph: The graph represented as an adjacency list.\n",
        "        start_node: The starting node for the traversal.\n",
        "\n",
        "    Returns:\n",
        "        A list containing the nodes in the order they were visited during BFS.\n",
        "    \"\"\"\n",
        "    queue = deque([start_node])\n",
        "    visited = {start_node}\n",
        "    traversal_order = []\n",
        "\n",
        "    while queue:\n",
        "        current_node = queue.popleft()\n",
        "        traversal_order.append(current_node)\n",
        "\n",
        "        if current_node in graph:\n",
        "            for neighbor in graph[current_node]:\n",
        "                if neighbor not in visited:\n",
        "                    visited.add(neighbor)\n",
        "                    queue.append(neighbor)\n",
        "\n",
        "    return traversal_order\n",
        "\n",
        "# Example usage with the previously defined graph\n",
        "bfs_traversal = bfs_graph(graph, 'A')\n",
        "print(\"BFS Traversal:\", bfs_traversal)"
      ],
      "execution_count": 11,
      "outputs": [
        {
          "output_type": "stream",
          "name": "stdout",
          "text": [
            "BFS Traversal: ['A', 'B', 'C', 'D', 'E', 'F']\n"
          ]
        }
      ]
    },
    {
      "cell_type": "markdown",
      "metadata": {
        "id": "31707be0"
      },
      "source": [
        "## Implement dfs for graphs\n",
        "\n",
        "### Subtask:\n",
        "Write Python code for the Depth-First Search (DFS) algorithm that works on a given graph representation.\n"
      ]
    },
    {
      "cell_type": "markdown",
      "metadata": {
        "id": "1de3300c"
      },
      "source": [
        "**Reasoning**:\n",
        "Implement the Depth-First Search (DFS) algorithm for the given graph representation using a recursive helper function.\n",
        "\n"
      ]
    },
    {
      "cell_type": "code",
      "metadata": {
        "colab": {
          "base_uri": "https://localhost:8080/"
        },
        "id": "5fecce8c",
        "outputId": "43d73124-3f19-4305-ab93-69b549d9d631"
      },
      "source": [
        "def dfs_graph(graph, start_node):\n",
        "    \"\"\"\n",
        "    Performs a Depth-First Search on a graph.\n",
        "\n",
        "    Args:\n",
        "        graph: The graph represented as an adjacency list.\n",
        "        start_node: The starting node for the traversal.\n",
        "\n",
        "    Returns:\n",
        "        A list containing the nodes in the order they were visited during DFS.\n",
        "    \"\"\"\n",
        "    visited = set()\n",
        "    traversal_order = []\n",
        "\n",
        "    def dfs_helper(node):\n",
        "        visited.add(node)\n",
        "        traversal_order.append(node)\n",
        "\n",
        "        if node in graph:\n",
        "            for neighbor in graph[node]:\n",
        "                if neighbor not in visited:\n",
        "                    dfs_helper(neighbor)\n",
        "\n",
        "    dfs_helper(start_node)\n",
        "    return traversal_order\n",
        "\n",
        "# Example usage with the previously defined graph\n",
        "dfs_traversal = dfs_graph(graph, 'A')\n",
        "print(\"DFS Traversal:\", dfs_traversal)"
      ],
      "execution_count": 12,
      "outputs": [
        {
          "output_type": "stream",
          "name": "stdout",
          "text": [
            "DFS Traversal: ['A', 'B', 'D', 'E', 'F', 'C']\n"
          ]
        }
      ]
    },
    {
      "cell_type": "markdown",
      "metadata": {
        "id": "ac4a49da"
      },
      "source": [
        "## Create example graph\n",
        "\n",
        "### Subtask:\n",
        "Define a simple example graph (you can use the graph editor you mentioned to visualize it if you like, but we'll represent it in code).\n"
      ]
    },
    {
      "cell_type": "markdown",
      "metadata": {
        "id": "f4e5e7b5"
      },
      "source": [
        "**Reasoning**:\n",
        "Define a dictionary named `graph` to represent a simple graph using an adjacency list.\n",
        "\n"
      ]
    },
    {
      "cell_type": "code",
      "metadata": {
        "id": "8303ad19"
      },
      "source": [
        "# Define a simple graph using an adjacency list\n",
        "graph = {\n",
        "    'A': ['B', 'C'],\n",
        "    'B': ['A', 'D', 'E'],\n",
        "    'C': ['A', 'F'],\n",
        "    'D': ['B'],\n",
        "    'E': ['B', 'F'],\n",
        "    'F': ['C', 'E']\n",
        "}"
      ],
      "execution_count": 13,
      "outputs": []
    },
    {
      "cell_type": "markdown",
      "metadata": {
        "id": "4f782569"
      },
      "source": [
        "## Apply bfs and dfs\n",
        "\n",
        "### Subtask:\n",
        "Run both BFS and DFS on the example graph and print the traversal order.\n"
      ]
    },
    {
      "cell_type": "markdown",
      "metadata": {
        "id": "4814695d"
      },
      "source": [
        "**Reasoning**:\n",
        "Run both BFS and DFS on the example graph and print the traversal order.\n",
        "\n"
      ]
    },
    {
      "cell_type": "code",
      "metadata": {
        "colab": {
          "base_uri": "https://localhost:8080/"
        },
        "id": "7be5b61d",
        "outputId": "6e843f7a-3ede-4576-88f3-9b37527124b8"
      },
      "source": [
        "# Run BFS on the example graph\n",
        "bfs_traversal = bfs_graph(graph, 'A')\n",
        "print(\"BFS Traversal:\", bfs_traversal)\n",
        "\n",
        "# Run DFS on the example graph\n",
        "dfs_traversal = dfs_graph(graph, 'A')\n",
        "print(\"DFS Traversal:\", dfs_traversal)"
      ],
      "execution_count": 14,
      "outputs": [
        {
          "output_type": "stream",
          "name": "stdout",
          "text": [
            "BFS Traversal: ['A', 'B', 'C', 'D', 'E', 'F']\n",
            "DFS Traversal: ['A', 'B', 'D', 'E', 'F', 'C']\n"
          ]
        }
      ]
    },
    {
      "cell_type": "markdown",
      "metadata": {
        "id": "227b6fe9"
      },
      "source": [
        "## Create example tree\n",
        "\n",
        "### Subtask:\n",
        "Define a simple example tree (a tree is a specific type of graph).\n"
      ]
    },
    {
      "cell_type": "markdown",
      "metadata": {
        "id": "d6f324d6"
      },
      "source": [
        "**Reasoning**:\n",
        "Create a Python dictionary to represent a simple tree structure using an adjacency list and print it.\n",
        "\n"
      ]
    },
    {
      "cell_type": "code",
      "metadata": {
        "colab": {
          "base_uri": "https://localhost:8080/"
        },
        "id": "474ff168",
        "outputId": "8a46163e-a7aa-4a32-98db-4e01cebe1f23"
      },
      "source": [
        "# Create a dictionary to represent a simple tree structure\n",
        "tree = {\n",
        "    'A': ['B', 'C'],\n",
        "    'B': ['D', 'E'],\n",
        "    'C': ['F'],\n",
        "    'D': [],\n",
        "    'E': [],\n",
        "    'F': []\n",
        "}\n",
        "\n",
        "# Print the tree representation\n",
        "print(\"Tree represented as an adjacency list:\")\n",
        "for node, children in tree.items():\n",
        "    print(f\"{node}: {children}\")"
      ],
      "execution_count": 15,
      "outputs": [
        {
          "output_type": "stream",
          "name": "stdout",
          "text": [
            "Tree represented as an adjacency list:\n",
            "A: ['B', 'C']\n",
            "B: ['D', 'E']\n",
            "C: ['F']\n",
            "D: []\n",
            "E: []\n",
            "F: []\n"
          ]
        }
      ]
    },
    {
      "cell_type": "markdown",
      "metadata": {
        "id": "d5ecbf9b"
      },
      "source": [
        "## Apply bfs and dfs on tree\n",
        "\n",
        "### Subtask:\n",
        "Run both BFS and DFS on the example tree and print the traversal order.\n"
      ]
    },
    {
      "cell_type": "markdown",
      "metadata": {
        "id": "fa55732c"
      },
      "source": [
        "**Reasoning**:\n",
        "Call the previously defined bfs_graph and dfs_graph functions with the example tree and print the traversal orders.\n",
        "\n"
      ]
    },
    {
      "cell_type": "code",
      "metadata": {
        "colab": {
          "base_uri": "https://localhost:8080/"
        },
        "id": "9bea6673",
        "outputId": "e3481e4b-b602-46f4-a3df-cbfe2246832d"
      },
      "source": [
        "# Run BFS on the example tree\n",
        "bfs_traversal_tree = bfs_graph(tree, 'A')\n",
        "print(\"BFS Traversal on Tree:\", bfs_traversal_tree)\n",
        "\n",
        "# Run DFS on the example tree\n",
        "dfs_traversal_tree = dfs_graph(tree, 'A')\n",
        "print(\"DFS Traversal on Tree:\", dfs_traversal_tree)"
      ],
      "execution_count": 16,
      "outputs": [
        {
          "output_type": "stream",
          "name": "stdout",
          "text": [
            "BFS Traversal on Tree: ['A', 'B', 'C', 'D', 'E', 'F']\n",
            "DFS Traversal on Tree: ['A', 'B', 'D', 'E', 'C', 'F']\n"
          ]
        }
      ]
    },
    {
      "cell_type": "markdown",
      "metadata": {
        "id": "b3f12568"
      },
      "source": [
        "## Summarize and conclude\n",
        "\n",
        "### Subtask:\n",
        "Briefly explain the output of the BFS and DFS traversals for both the graph and the tree examples.\n"
      ]
    },
    {
      "cell_type": "markdown",
      "metadata": {
        "id": "1b78ccc6"
      },
      "source": [
        "**Reasoning**:\n",
        "Print a clear heading for the traversal order analysis.\n",
        "\n"
      ]
    },
    {
      "cell_type": "code",
      "metadata": {
        "colab": {
          "base_uri": "https://localhost:8080/"
        },
        "id": "0ad4f2a6",
        "outputId": "21179870-ad08-43ef-eb0b-0b2d7db34e58"
      },
      "source": [
        "print(\"\\n## Traversal Order Analysis\")"
      ],
      "execution_count": 17,
      "outputs": [
        {
          "output_type": "stream",
          "name": "stdout",
          "text": [
            "\n",
            "## Traversal Order Analysis\n"
          ]
        }
      ]
    },
    {
      "cell_type": "markdown",
      "metadata": {
        "id": "e0880e7a"
      },
      "source": [
        "**Reasoning**:\n",
        "Explain the output of the BFS and DFS traversals for the graph example, describing how BFS explores level by level and DFS explores as deep as possible.\n",
        "\n"
      ]
    },
    {
      "cell_type": "code",
      "metadata": {
        "colab": {
          "base_uri": "https://localhost:8080/"
        },
        "id": "4b84d093",
        "outputId": "05b9ef7b-3b4b-4291-911c-5d76ccf92d60"
      },
      "source": [
        "print(\"\\n### Graph Traversal Orders\")\n",
        "print(\"\\nFor the graph example:\")\n",
        "print(f\"BFS Traversal Order: {bfs_traversal}\")\n",
        "print(\"In BFS, the algorithm explores the graph level by level, visiting all neighbors at the current depth before moving to the next depth. Starting from 'A', it visits 'B' and 'C' (level 1), then their unvisited neighbors 'D', 'E', and 'F' (level 2), resulting in the order A, B, C, D, E, F.\")\n",
        "\n",
        "print(f\"\\nDFS Traversal Order: {dfs_traversal}\")\n",
        "print(\"In DFS, the algorithm explores as deep as possible along each branch before backtracking. Starting from 'A', it might go to 'B', then 'D'. Since 'D' has no unvisited neighbors, it backtracks to 'B', then goes to 'E'. From 'E', it goes to 'F'. Since 'F' has no unvisited neighbors and all neighbors of 'E' are visited, it backtracks to 'B', then 'A'. From 'A', it goes to 'C'. All neighbors of 'C' ('A' and 'F') are visited, so it backtracks. The specific order can depend on the order neighbors are visited, but the general principle is depth-first exploration, resulting in a possible order like A, B, D, E, F, C.\")"
      ],
      "execution_count": 18,
      "outputs": [
        {
          "output_type": "stream",
          "name": "stdout",
          "text": [
            "\n",
            "### Graph Traversal Orders\n",
            "\n",
            "For the graph example:\n",
            "BFS Traversal Order: ['A', 'B', 'C', 'D', 'E', 'F']\n",
            "In BFS, the algorithm explores the graph level by level, visiting all neighbors at the current depth before moving to the next depth. Starting from 'A', it visits 'B' and 'C' (level 1), then their unvisited neighbors 'D', 'E', and 'F' (level 2), resulting in the order A, B, C, D, E, F.\n",
            "\n",
            "DFS Traversal Order: ['A', 'B', 'D', 'E', 'F', 'C']\n",
            "In DFS, the algorithm explores as deep as possible along each branch before backtracking. Starting from 'A', it might go to 'B', then 'D'. Since 'D' has no unvisited neighbors, it backtracks to 'B', then goes to 'E'. From 'E', it goes to 'F'. Since 'F' has no unvisited neighbors and all neighbors of 'E' are visited, it backtracks to 'B', then 'A'. From 'A', it goes to 'C'. All neighbors of 'C' ('A' and 'F') are visited, so it backtracks. The specific order can depend on the order neighbors are visited, but the general principle is depth-first exploration, resulting in a possible order like A, B, D, E, F, C.\n"
          ]
        }
      ]
    },
    {
      "cell_type": "markdown",
      "metadata": {
        "id": "6c3ef044"
      },
      "source": [
        "**Reasoning**:\n",
        "Explain the output of the BFS and DFS traversals for the tree example, highlighting similarities or differences compared to the graph and explaining why.\n",
        "\n"
      ]
    },
    {
      "cell_type": "code",
      "metadata": {
        "colab": {
          "base_uri": "https://localhost:8080/"
        },
        "id": "9d959b4c",
        "outputId": "ba497358-e330-4665-c329-81318b69c95b"
      },
      "source": [
        "print(\"\\n### Tree Traversal Orders\")\n",
        "print(\"\\nFor the tree example:\")\n",
        "print(f\"BFS Traversal Order on Tree: {bfs_traversal_tree}\")\n",
        "print(\"For a tree, BFS still explores level by level. Starting from the root 'A', it visits its children 'B' and 'C' (level 1), then their children 'D', 'E', and 'F' (level 2), resulting in the order A, B, C, D, E, F. The BFS traversal on this tree is the same as the graph example because in this specific case, the tree structure fits within the broader graph structure and BFS systematically explores levels regardless of whether it's a general graph or a tree.\")\n",
        "\n",
        "print(f\"\\nDFS Traversal Order on Tree: {dfs_traversal_tree}\")\n",
        "print(\"For a tree, DFS also explores as deep as possible along each branch. Starting from 'A', it goes to 'B', then 'D'. 'D' is a leaf, so it backtracks to 'B'. From 'B', it goes to 'E'. 'E' is a leaf, so it backtracks to 'B', then 'A'. From 'A', it goes to 'C', then 'F'. 'F' is a leaf, so it backtracks to 'C', then 'A'. This results in the order A, B, D, E, C, F. The DFS traversal on the tree is different from the graph due to the lack of cycles and fewer alternative paths in the tree structure, which influences the backtracking points and exploration path.\")"
      ],
      "execution_count": 19,
      "outputs": [
        {
          "output_type": "stream",
          "name": "stdout",
          "text": [
            "\n",
            "### Tree Traversal Orders\n",
            "\n",
            "For the tree example:\n",
            "BFS Traversal Order on Tree: ['A', 'B', 'C', 'D', 'E', 'F']\n",
            "For a tree, BFS still explores level by level. Starting from the root 'A', it visits its children 'B' and 'C' (level 1), then their children 'D', 'E', and 'F' (level 2), resulting in the order A, B, C, D, E, F. The BFS traversal on this tree is the same as the graph example because in this specific case, the tree structure fits within the broader graph structure and BFS systematically explores levels regardless of whether it's a general graph or a tree.\n",
            "\n",
            "DFS Traversal Order on Tree: ['A', 'B', 'D', 'E', 'C', 'F']\n",
            "For a tree, DFS also explores as deep as possible along each branch. Starting from 'A', it goes to 'B', then 'D'. 'D' is a leaf, so it backtracks to 'B'. From 'B', it goes to 'E'. 'E' is a leaf, so it backtracks to 'B', then 'A'. From 'A', it goes to 'C', then 'F'. 'F' is a leaf, so it backtracks to 'C', then 'A'. This results in the order A, B, D, E, C, F. The DFS traversal on the tree is different from the graph due to the lack of cycles and fewer alternative paths in the tree structure, which influences the backtracking points and exploration path.\n"
          ]
        }
      ]
    },
    {
      "cell_type": "markdown",
      "metadata": {
        "id": "c0811d69"
      },
      "source": [
        "**Reasoning**:\n",
        "Briefly summarize the core difference in exploration strategy between BFS and DFS based on the observed outputs from both the graph and tree traversals.\n",
        "\n"
      ]
    },
    {
      "cell_type": "code",
      "metadata": {
        "colab": {
          "base_uri": "https://localhost:8080/"
        },
        "id": "3f8a4a3c",
        "outputId": "f3fe9446-53c1-469e-b517-bfb7a3de60e1"
      },
      "source": [
        "print(\"\\n### Summary of BFS vs. DFS Exploration Strategy\")\n",
        "print(\"\\nBased on the traversals of both the graph and the tree:\")\n",
        "print(\"- BFS systematically explores the graph or tree level by level. It guarantees finding the shortest path in terms of the number of edges in an unweighted graph or tree.\")\n",
        "print(\"- DFS explores as deep as possible along a single path before backtracking. This can lead to finding a solution faster if it's deep in the graph/tree and on an early explored branch, but it doesn't guarantee the shortest path.\")\n",
        "print(\"The key difference lies in the order nodes are added and removed from the data structure used (queue for BFS, stack/recursion for DFS), which dictates whether the exploration is breadth-first or depth-first.\")"
      ],
      "execution_count": 20,
      "outputs": [
        {
          "output_type": "stream",
          "name": "stdout",
          "text": [
            "\n",
            "### Summary of BFS vs. DFS Exploration Strategy\n",
            "\n",
            "Based on the traversals of both the graph and the tree:\n",
            "- BFS systematically explores the graph or tree level by level. It guarantees finding the shortest path in terms of the number of edges in an unweighted graph or tree.\n",
            "- DFS explores as deep as possible along a single path before backtracking. This can lead to finding a solution faster if it's deep in the graph/tree and on an early explored branch, but it doesn't guarantee the shortest path.\n",
            "The key difference lies in the order nodes are added and removed from the data structure used (queue for BFS, stack/recursion for DFS), which dictates whether the exploration is breadth-first or depth-first.\n"
          ]
        }
      ]
    },
    {
      "cell_type": "markdown",
      "metadata": {
        "id": "d550889f"
      },
      "source": [
        "## Summary:\n",
        "\n",
        "### Data Analysis Key Findings\n",
        "\n",
        "*   The BFS traversal of the example graph starting from 'A' resulted in the order \\['A', 'B', 'C', 'D', 'E', 'F'\\], demonstrating level-by-level exploration.\n",
        "*   The DFS traversal of the example graph starting from 'A' resulted in the order \\['A', 'B', 'D', 'E', 'F', 'C'\\], showing exploration deep into one branch before backtracking.\n",
        "*   The BFS traversal of the example tree starting from 'A' resulted in the order \\['A', 'B', 'C', 'D', 'E', 'F'\\], which is the same as the graph BFS due to the tree's structure fitting within the graph example's levels.\n",
        "*   The DFS traversal of the example tree starting from 'A' resulted in the order \\['A', 'B', 'D', 'E', 'C', 'F'\\], which is different from the graph DFS, influenced by the tree's lack of cycles and distinct branching structure.\n",
        "\n",
        "### Insights or Next Steps\n",
        "\n",
        "*   BFS is suitable for finding the shortest path in unweighted graphs or trees.\n",
        "*   DFS can be more efficient if the target node is deep within a specific branch of the graph or tree.\n"
      ]
    },
    {
      "cell_type": "markdown",
      "source": [
        "youtube video link:https://www.youtube.com/watch?v=1-QLczldmW4"
      ],
      "metadata": {
        "id": "PI9Z8o098Uu8"
      }
    }
  ]
}